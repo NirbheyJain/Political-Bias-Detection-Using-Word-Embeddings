{
 "cells": [
  {
   "cell_type": "code",
   "execution_count": 1,
   "metadata": {},
   "outputs": [
    {
     "name": "stderr",
     "output_type": "stream",
     "text": [
      "[nltk_data] Downloading package averaged_perceptron_tagger to\n",
      "[nltk_data]     /Users/nirbhey/nltk_data...\n",
      "[nltk_data]   Package averaged_perceptron_tagger is already up-to-\n",
      "[nltk_data]       date!\n"
     ]
    }
   ],
   "source": [
    "from gensim.models import Word2Vec, KeyedVectors\n",
    "import pandas as pd\n",
    "import nltk\n",
    "from nltk import word_tokenize\n",
    "from nltk import StanfordTagger\n",
    "nltk.download('averaged_perceptron_tagger')\n",
    "import os\n",
    "from vaderSentiment.vaderSentiment import SentimentIntensityAnalyzer\n",
    "# politicalentities = open(os.getcwd()+\"/src/politicalentities.txt\", \"r\")"
   ]
  },
  {
   "cell_type": "code",
   "execution_count": 2,
   "metadata": {},
   "outputs": [],
   "source": [
    "skipgramOrCbow = open(os.getcwd()+'/models/publicationsSkipgramOrCbow.txt','r')\n",
    "dict = {}\n",
    "for line in skipgramOrCbow:\n",
    "    components = line.split(\":\")\n",
    "    dict[components[0].strip()]=components[1].strip()\n",
    "\n",
    "def importModel(publication):\n",
    "    \n",
    "    \n",
    "    directory = 'models/publications'+dict[publication]+'/'+publication\n",
    "    print(dict[publication])\n",
    "#     directory = 'models/'+publication\n",
    "\n",
    "    for filename in os.listdir(directory):\n",
    "        if filename.endswith(\".model\"):\n",
    "            \n",
    "            splittedFileName = (filename.split('.')[0]).split('-')\n",
    "            exec(publication.replace(\" \", \"\") + \"Model = Word2Vec.load(\\\"/Users/nirbhey/Desktop/temp/\" + directory + \"/\" + filename + \"\\\")\", globals())\n",
    "        \n",
    "        else:\n",
    "            \n",
    "            continue"
   ]
  },
  {
   "cell_type": "code",
   "execution_count": 3,
   "metadata": {},
   "outputs": [],
   "source": [
    "#https://medium.com/analytics-vidhya/simplifying-social-media-sentiment-analysis-using-vader-in-python-f9e6ec6fc52f\n",
    "\n",
    "# positive sentiment : (compound score >= 0.05)\n",
    "# neutral sentiment : (compound score > -0.05) and (compound score < 0.05)\n",
    "# negative sentiment : (compound score <= -0.05)\n",
    "\n",
    "analyser = SentimentIntensityAnalyzer()\n",
    "\n",
    "def sentimentAnalyserScores(sentence):\n",
    "    score = analyser.polarity_scores(sentence)\n",
    "    return score"
   ]
  },
  {
   "cell_type": "code",
   "execution_count": 4,
   "metadata": {},
   "outputs": [],
   "source": [
    "import matplotlib.pyplot as plt; plt.rcdefaults()\n",
    "import numpy as np\n",
    "import matplotlib.pyplot as plt\n",
    "\n",
    "def createBarChart(mostSimilar, politicalEntity, publication):\n",
    "    similarWords = []\n",
    "    wordSimilarities = []\n",
    "    i = 0\n",
    "    \n",
    "    for tuple in mostSimilar:\n",
    "        if i >= 100:\n",
    "            break\n",
    "            \n",
    "        word = nltk.word_tokenize(tuple[0])\n",
    "        \n",
    "        if 'JJ' not in nltk.pos_tag(word)[0][1] and 'RB' not in nltk.pos_tag(word)[0][1]:\n",
    "            continue\n",
    "        else:\n",
    "#             print(tuple)\n",
    "            wordSimilarities.append(tuple[1])\n",
    "            similarWords += word\n",
    "            i += 1        \n",
    "    \n",
    "    #Colors\n",
    "    y_pos = np.arange(len(similarWords))\n",
    "    \n",
    "    colors = []\n",
    "    for word in similarWords:\n",
    "        scores = sentimentAnalyserScores(word)\n",
    "        colors.append((scores[\"neg\"]/5,scores[\"pos\"]/5,0))\n",
    "        \n",
    "    \n",
    "    plt.figure(figsize=(20,5))\n",
    "    plt.xticks(y_pos, similarWords,rotation=90)\n",
    "    plt.ylabel('Similarity')\n",
    "    plt.xlabel('Political Entities')\n",
    "    plt.title(\"'\"+politicalEntity+\"'\"+'\\n'+publication)\n",
    "    plt.tight_layout()\n",
    "    plt.ylim(round(min(wordSimilarities),1)-0.1, round(max(wordSimilarities),1))\n",
    "    plt.axis('tight')\n",
    "#     plt.bar(y_pos, wordSimilarities, align='center', alpha=0.5, width = 1, color=(0.1,0.2,0.1))\n",
    "    plt.bar(y_pos, wordSimilarities, align='center', alpha=0.5, width = 1, color=colors)\n",
    "    plt.xlim([0,y_pos.size])\n",
    "\n",
    "    try:\n",
    "        plt.savefig(os.getcwd()+\"/models/biasGraphs/\"+publication+\"/\"+politicalEntity+\".png\", dpi=600)\n",
    "    except FileNotFoundError:\n",
    "        os.mkdir(os.getcwd()+\"/models/biasGraphs/\"+publication)\n",
    "        plt.savefig(os.getcwd()+\"/models/biasGraphs/\"+publication+\"/\"+politicalEntity+\".png\", dpi=600)\n",
    "#     plt.show()"
   ]
  },
  {
   "cell_type": "code",
   "execution_count": null,
   "metadata": {},
   "outputs": [
    {
     "name": "stdout",
     "output_type": "stream",
     "text": [
      "New York Times\n",
      "Skipgram\n",
      "['america', 'christian', 'conservative', 'guns', 'pence', 'police', 'religion', 'republican', 'texas', 'trump', 'white', '-', 'activist', 'black', 'california', 'clinton', 'democrat', 'gay', 'immigrant', 'lgbt', 'liberal', 'refugee', 'socialist']\n"
     ]
    },
    {
     "name": "stderr",
     "output_type": "stream",
     "text": [
      "/opt/anaconda3/lib/python3.7/site-packages/ipykernel_launcher.py:1: DeprecationWarning: Call to deprecated `most_similar` (Method will be removed in 4.0.0, use self.wv.most_similar() instead).\n",
      "  \"\"\"Entry point for launching an IPython kernel.\n",
      "/opt/anaconda3/lib/python3.7/site-packages/matplotlib/backends/backend_agg.py:211: RuntimeWarning: Glyph 152 missing from current font.\n",
      "  font.set_text(s, 0.0, flags=flags)\n",
      "/opt/anaconda3/lib/python3.7/site-packages/matplotlib/backends/backend_agg.py:180: RuntimeWarning: Glyph 152 missing from current font.\n",
      "  font.set_text(s, 0, flags=flags)\n",
      "/opt/anaconda3/lib/python3.7/site-packages/ipykernel_launcher.py:33: RuntimeWarning: More than 20 figures have been opened. Figures created through the pyplot interface (`matplotlib.pyplot.figure`) are retained until explicitly closed and may consume too much memory. (To control this warning, see the rcParam `figure.max_open_warning`).\n"
     ]
    },
    {
     "name": "stdout",
     "output_type": "stream",
     "text": [
      "CNN\n",
      "Skipgram\n",
      "['america', 'christian', 'conservative', 'guns', 'pence', 'police', 'religion', 'republican', 'texas', 'trump', 'white', '-', 'activist', 'black', 'california', 'clinton', 'democrat', 'gay', 'immigrant', 'lgbt', 'liberal', 'refugee', 'socialist']\n"
     ]
    },
    {
     "name": "stderr",
     "output_type": "stream",
     "text": [
      "/opt/anaconda3/lib/python3.7/site-packages/ipykernel_launcher.py:1: DeprecationWarning: Call to deprecated `most_similar` (Method will be removed in 4.0.0, use self.wv.most_similar() instead).\n",
      "  \"\"\"Entry point for launching an IPython kernel.\n",
      "/opt/anaconda3/lib/python3.7/site-packages/ipykernel_launcher.py:33: RuntimeWarning: More than 20 figures have been opened. Figures created through the pyplot interface (`matplotlib.pyplot.figure`) are retained until explicitly closed and may consume too much memory. (To control this warning, see the rcParam `figure.max_open_warning`).\n",
      "/opt/anaconda3/lib/python3.7/site-packages/matplotlib/backends/backend_agg.py:211: RuntimeWarning: Glyph 142 missing from current font.\n",
      "  font.set_text(s, 0.0, flags=flags)\n",
      "/opt/anaconda3/lib/python3.7/site-packages/matplotlib/backends/backend_agg.py:180: RuntimeWarning: Glyph 142 missing from current font.\n",
      "  font.set_text(s, 0, flags=flags)\n",
      "/opt/anaconda3/lib/python3.7/site-packages/matplotlib/backends/backend_agg.py:211: RuntimeWarning: Glyph 138 missing from current font.\n",
      "  font.set_text(s, 0.0, flags=flags)\n",
      "/opt/anaconda3/lib/python3.7/site-packages/matplotlib/backends/backend_agg.py:180: RuntimeWarning: Glyph 138 missing from current font.\n",
      "  font.set_text(s, 0, flags=flags)\n"
     ]
    },
    {
     "name": "stdout",
     "output_type": "stream",
     "text": [
      "Breitbart\n",
      "Skipgram\n",
      "['america', 'christian', 'conservative', 'guns', 'pence', 'police', 'religion', 'republican', 'texas', 'trump', 'white', '-', 'activist', 'black', 'california', 'clinton', 'democrat', 'gay', 'immigrant', 'lgbt', 'liberal', 'refugee', 'socialist']\n"
     ]
    },
    {
     "name": "stderr",
     "output_type": "stream",
     "text": [
      "/opt/anaconda3/lib/python3.7/site-packages/ipykernel_launcher.py:1: DeprecationWarning: Call to deprecated `most_similar` (Method will be removed in 4.0.0, use self.wv.most_similar() instead).\n",
      "  \"\"\"Entry point for launching an IPython kernel.\n",
      "/opt/anaconda3/lib/python3.7/site-packages/ipykernel_launcher.py:33: RuntimeWarning: More than 20 figures have been opened. Figures created through the pyplot interface (`matplotlib.pyplot.figure`) are retained until explicitly closed and may consume too much memory. (To control this warning, see the rcParam `figure.max_open_warning`).\n",
      "/opt/anaconda3/lib/python3.7/site-packages/matplotlib/backends/backend_agg.py:211: RuntimeWarning: Glyph 152 missing from current font.\n",
      "  font.set_text(s, 0.0, flags=flags)\n",
      "/opt/anaconda3/lib/python3.7/site-packages/matplotlib/backends/backend_agg.py:180: RuntimeWarning: Glyph 152 missing from current font.\n",
      "  font.set_text(s, 0, flags=flags)\n",
      "/opt/anaconda3/lib/python3.7/site-packages/matplotlib/backends/backend_agg.py:211: RuntimeWarning: Glyph 144 missing from current font.\n",
      "  font.set_text(s, 0.0, flags=flags)\n",
      "/opt/anaconda3/lib/python3.7/site-packages/matplotlib/backends/backend_agg.py:180: RuntimeWarning: Glyph 144 missing from current font.\n",
      "  font.set_text(s, 0, flags=flags)\n",
      "/opt/anaconda3/lib/python3.7/site-packages/matplotlib/backends/backend_agg.py:211: RuntimeWarning: Glyph 147 missing from current font.\n",
      "  font.set_text(s, 0.0, flags=flags)\n",
      "/opt/anaconda3/lib/python3.7/site-packages/matplotlib/backends/backend_agg.py:180: RuntimeWarning: Glyph 147 missing from current font.\n",
      "  font.set_text(s, 0, flags=flags)\n"
     ]
    }
   ],
   "source": [
    "publications = ['New York Times', 'CNN', 'Breitbart', 'New York Post', 'Guardian', 'NPR', 'Reuters', 'Vox', 'Washington Post', 'Atlantic', 'Fox News', 'Buzzfeed News', 'National Review']\n",
    "\n",
    "importantEntitiesFile = open(os.getcwd()+'/src/importantpoliticalentities.txt','r')\n",
    "importantEntities = []\n",
    "for line in importantEntitiesFile:\n",
    "    importantEntities.append(line.strip())\n",
    "\n",
    "for i in publications:\n",
    "    print(i)\n",
    "    importModel(i)\n",
    "    print(importantEntities)\n",
    "    for politicalEntity in importantEntities:\n",
    "#         print(\"\\t\"+politicalEntity)\n",
    "        if politicalEntity.strip() != '-':\n",
    "            exec(\"createBarChart(\"+i.replace(\" \", \"\")+\"Model.most_similar(\\\"\" + politicalEntity.strip() + \"\\\", topn=3000), \\\"\"+politicalEntity.strip()+\"\\\", \\\"\"+i+\"\\\")\")"
   ]
  },
  {
   "cell_type": "code",
   "execution_count": null,
   "metadata": {},
   "outputs": [],
   "source": []
  }
 ],
 "metadata": {
  "kernelspec": {
   "display_name": "Python 3",
   "language": "python",
   "name": "python3"
  },
  "language_info": {
   "codemirror_mode": {
    "name": "ipython",
    "version": 3
   },
   "file_extension": ".py",
   "mimetype": "text/x-python",
   "name": "python",
   "nbconvert_exporter": "python",
   "pygments_lexer": "ipython3",
   "version": "3.7.4"
  }
 },
 "nbformat": 4,
 "nbformat_minor": 2
}
