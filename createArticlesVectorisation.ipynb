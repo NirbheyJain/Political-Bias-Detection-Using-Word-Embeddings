{
 "cells": [
  {
   "cell_type": "code",
   "execution_count": 1,
   "metadata": {},
   "outputs": [],
   "source": [
    "from gensim.models import Word2Vec, KeyedVectors\n",
    "import pandas as pd\n",
    "import nltk\n",
    "import os\n",
    "# from tqdm import tqdm"
   ]
  },
  {
   "cell_type": "code",
   "execution_count": 2,
   "metadata": {},
   "outputs": [],
   "source": [
    "# Don't change min_count, workers, sg\n",
    "#\n",
    "# size = 25 -> 225  || window = 5, 10, 15 || min_count = 1 || workers = 6 || sg = 1\n",
    "# size = 25 -> 225  || window = 5, 10, 15 || min_count = 1 || workers = 6 || sg = 0\n",
    "\n",
    "\"\"\"\n",
    "Model creation\n",
    "\"\"\"\n",
    "def createModels(dataset,publication,skipgram=1):\n",
    "    for windowIndex in range (3,4): # range (1,4):\n",
    "        for sizeIndex in range(4,6): # range (0,9):\n",
    "            print(\"starting\")\n",
    "            model = Word2Vec(dataset,size=(25+(sizeIndex*25)),window=(windowIndex*5),min_count=1,workers=6,sg=skipgram)\n",
    "            print(\"model made\")\n",
    "            model.save(\"models/publicationsSkipgram/\"+publication+\"/model-\"+ str(25+(sizeIndex*25)) +\"-\"+ str(windowIndex*5)+\"-\"+str(skipgram)+\".model\")\n",
    "#             model.save(\"models/\"+publication+\"/model-\"+ str(25+(sizeIndex*25)) +\"-\"+ str(windowIndex*5)+\"-\"+str(skipgram)+\".model\")\n",
    "            \n",
    "            print(\"model saved\")"
   ]
  },
  {
   "cell_type": "code",
   "execution_count": 3,
   "metadata": {},
   "outputs": [
    {
     "name": "stderr",
     "output_type": "stream",
     "text": [
      "[nltk_data] Downloading package punkt to /Users/nirbhey/nltk_data...\n",
      "[nltk_data]   Unzipping tokenizers/punkt.zip.\n"
     ]
    },
    {
     "name": "stdout",
     "output_type": "stream",
     "text": [
      "starting\n",
      "model made\n",
      "model saved\n",
      "starting\n",
      "model made\n",
      "model saved\n"
     ]
    }
   ],
   "source": [
    "nltk.download('punkt')\n",
    "publications = ['New York Times']#, 'CNN', 'Breitbart', 'New York Post', 'Guardian', 'NPR', 'Reuters', 'Vox', 'Washington Post', 'Atlantic', 'Fox News', 'Buzzfeed News', 'National Review']\n",
    "\n",
    "for publication in publications:\n",
    "    df = pd.read_csv('/Users/nirbhey/Desktop/temp/datasets/publications/'+publication+'.csv', encoding= 'unicode_escape')\n",
    "    articles = df\n",
    "    newsVec = [nltk.word_tokenize(article) for article in articles]\n",
    "    createModels(newsVec,publication,0)"
   ]
  }
 ],
 "metadata": {
  "kernelspec": {
   "display_name": "Python 3",
   "language": "python",
   "name": "python3"
  },
  "language_info": {
   "codemirror_mode": {
    "name": "ipython",
    "version": 3
   },
   "file_extension": ".py",
   "mimetype": "text/x-python",
   "name": "python",
   "nbconvert_exporter": "python",
   "pygments_lexer": "ipython3",
   "version": "3.7.4"
  }
 },
 "nbformat": 4,
 "nbformat_minor": 2
}
