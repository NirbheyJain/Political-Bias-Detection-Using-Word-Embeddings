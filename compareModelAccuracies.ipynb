{
 "cells": [
  {
   "cell_type": "code",
   "execution_count": 1,
   "metadata": {},
   "outputs": [],
   "source": [
    "from gensim.models import Word2Vec, KeyedVectors\n",
    "import pandas as pd\n",
    "import nltk\n",
    "import os\n",
    "# from tqdm import tqdm"
   ]
  },
  {
   "cell_type": "code",
   "execution_count": 2,
   "metadata": {},
   "outputs": [],
   "source": [
    "# https://gist.github.com/iamaziz/8d8d8c08c7eeda707b9e\n",
    "def w2v_model_accuracy(model):\n",
    "\n",
    "    accuracy = model.accuracy(\"src/questions-words.txt\")\n",
    "    \n",
    "    sum_corr = len(accuracy[-1]['correct'])\n",
    "    sum_incorr = len(accuracy[-1]['incorrect'])\n",
    "    total = sum_corr + sum_incorr\n",
    "    percent = lambda a: a / total * 100\n",
    "    \n",
    "    returnList = []\n",
    "    returnList.append(total)\n",
    "    returnList.append(percent(sum_corr))\n",
    "    returnList.append(percent(sum_incorr))\n",
    "    \n",
    "    print(str(model))\n",
    "    print('Total sentences: {}, Correct: {:.2f}%, Incorrect: {:.2f}%'.format(total, percent(sum_corr), percent(sum_incorr)))\n",
    "    return returnList"
   ]
  },
  {
   "cell_type": "code",
   "execution_count": 3,
   "metadata": {},
   "outputs": [],
   "source": [
    "def importModels(publication):\n",
    "    directory = 'models/publicationsSkipgram/'+publication\n",
    "#     directory = 'models/'+publication\n",
    "    for filename in os.listdir(directory):\n",
    "        if filename.endswith(\".model\"):\n",
    "            splittedFileName = (filename.split('.')[0]).split('-')\n",
    "            exec(splittedFileName[0]+\"_\"+splittedFileName[1]+\"_\"+splittedFileName[2]+\"_\"+splittedFileName[3] + \" = Word2Vec.load(\\\"/Users/nirbhey/Desktop/temp/\" + directory + \"/\" + filename + \"\\\")\", globals())\n",
    "        else:\n",
    "            continue"
   ]
  },
  {
   "cell_type": "code",
   "execution_count": 4,
   "metadata": {},
   "outputs": [],
   "source": [
    "def compareModelAccuracies(clear):\n",
    "    if clear:\n",
    "        modelAccuracies = {}\n",
    "    for var in list(globals().items()):\n",
    "        print(str(var[0]))\n",
    "        try:\n",
    "            exec(\"modelAccuracies[\\\"\"+var[0]+\"\\\"]=w2v_model_accuracy(\"+var[0]+\")\")\n",
    "        except AttributeError:\n",
    "            print(\"AttributeError\")\n",
    "        except TypeError:\n",
    "            print(\"TypeError\")\n",
    "            continue\n",
    "    return modelAccuracies\n",
    "        "
   ]
  },
  {
   "cell_type": "code",
   "execution_count": 5,
   "metadata": {},
   "outputs": [],
   "source": [
    "from mpl_toolkits.mplot3d import Axes3D\n",
    "import matplotlib.pyplot as plt\n",
    "import numpy as np\n",
    "\n",
    "def plotModelAccuracies(accuracies, publication):\n",
    "    fig = plt.figure()\n",
    "    ax = fig.add_subplot(111, projection='3d')\n",
    "\n",
    "    x =[]\n",
    "    y =[]\n",
    "    z =[]\n",
    "\n",
    "    # print(modelAccuracies)\n",
    "    for model in accuracies:\n",
    "        variables = model.split(\"_\")\n",
    "\n",
    "        x.append(int(variables[1]))\n",
    "        y.append(int(variables[2]))\n",
    "        z.append(modelAccuracies[model][1])\n",
    "\n",
    "    ax.scatter(x, y, z, c=y, marker='o')\n",
    "\n",
    "    ax.set_xlabel('Size')\n",
    "    ax.set_ylabel('Window')\n",
    "    ax.set_zlabel('Correct(%)')\n",
    "\n",
    "    plt.savefig(os.getcwd()+\"/models/publicationsSkipgram/\"+publication+\"/skipgramplot1.png\")\n",
    "#     plt.savefig(os.getcwd()+\"/models/\"+publication+\"/cbowplot1.png\")\n",
    "    plt.show()"
   ]
  },
  {
   "cell_type": "code",
   "execution_count": 6,
   "metadata": {},
   "outputs": [],
   "source": [
    "# plotModelAccuracies(modelAccuracies,\"Atlantic\")"
   ]
  },
  {
   "cell_type": "code",
   "execution_count": 7,
   "metadata": {},
   "outputs": [],
   "source": [
    "import matplotlib.cbook as cbook\n",
    "from matplotlib.pyplot import figure\n",
    "\n",
    "def seeModelAccuracies(accuracies, publication):\n",
    "    x =[]\n",
    "    y =[]\n",
    "    z =[]\n",
    "\n",
    "    # print(modelAccuracies)\n",
    "    for model in accuracies:\n",
    "        variables = model.split(\"_\")\n",
    "\n",
    "        x.append(int(variables[1]))\n",
    "        y.append(int(variables[2]))\n",
    "        z.append(modelAccuracies[model][1])\n",
    "        \n",
    "    volume = [((size*200)-500) for size in z]\n",
    "\n",
    "    fig, ax = plt.subplots()\n",
    "    ax.scatter(x, y, s=volume,alpha=0.5)\n",
    "\n",
    "    ax.set_xlabel(r'size', fontsize=15)\n",
    "    ax.set_ylabel(r'window', fontsize=15)\n",
    "    ax.set_title('correct')\n",
    "\n",
    "    ax.grid(True)\n",
    "    fig.tight_layout()\n",
    "\n",
    "    plt.savefig(os.getcwd()+\"/models/publicationsSkipgram/\"+publication+\"/skipgramplot2.png\")\n",
    "#     plt.savefig(os.getcwd()+\"/models/\"+publication+\"/cbowplot2.png\")\n",
    "    plt.show()"
   ]
  },
  {
   "cell_type": "code",
   "execution_count": 8,
   "metadata": {},
   "outputs": [],
   "source": [
    "# seeModelAccuracies(modelAccuracies,\"Atlantic\")"
   ]
  },
  {
   "cell_type": "code",
   "execution_count": 9,
   "metadata": {},
   "outputs": [
    {
     "name": "stdout",
     "output_type": "stream",
     "text": [
      "__name__\n",
      "AttributeError\n",
      "__doc__\n",
      "AttributeError\n",
      "__package__\n",
      "AttributeError\n",
      "__loader__\n",
      "AttributeError\n",
      "__spec__\n",
      "AttributeError\n",
      "__builtin__\n",
      "AttributeError\n",
      "__builtins__\n",
      "AttributeError\n",
      "_ih\n",
      "AttributeError\n",
      "_oh\n",
      "AttributeError\n",
      "_dh\n",
      "AttributeError\n",
      "In\n",
      "AttributeError\n",
      "Out\n",
      "AttributeError\n",
      "get_ipython\n",
      "AttributeError\n",
      "exit\n",
      "AttributeError\n",
      "quit\n",
      "AttributeError\n",
      "_\n",
      "AttributeError\n",
      "__\n",
      "AttributeError\n",
      "___\n",
      "AttributeError\n",
      "_i\n",
      "AttributeError\n",
      "_ii\n",
      "AttributeError\n",
      "_iii\n",
      "AttributeError\n",
      "_i1\n",
      "AttributeError\n",
      "Word2Vec\n",
      "TypeError\n",
      "KeyedVectors\n",
      "TypeError\n",
      "pd\n",
      "AttributeError\n",
      "nltk\n",
      "TypeError\n",
      "os\n",
      "AttributeError\n",
      "_i2\n",
      "AttributeError\n",
      "w2v_model_accuracy\n",
      "AttributeError\n",
      "_i3\n",
      "AttributeError\n",
      "importModels\n",
      "AttributeError\n",
      "_i4\n",
      "AttributeError\n",
      "compareModelAccuracies\n",
      "AttributeError\n",
      "_i5\n",
      "AttributeError\n",
      "Axes3D\n",
      "AttributeError\n",
      "plt\n",
      "AttributeError\n",
      "np\n",
      "AttributeError\n",
      "plotModelAccuracies\n",
      "AttributeError\n",
      "_i6\n",
      "AttributeError\n",
      "_i7\n",
      "AttributeError\n",
      "cbook\n",
      "AttributeError\n",
      "figure\n",
      "AttributeError\n",
      "seeModelAccuracies\n",
      "AttributeError\n",
      "_i8\n",
      "AttributeError\n",
      "_i9\n",
      "AttributeError\n",
      "publications\n",
      "AttributeError\n",
      "publication\n",
      "AttributeError\n",
      "model_150_15_0\n"
     ]
    },
    {
     "name": "stderr",
     "output_type": "stream",
     "text": [
      "/opt/anaconda3/lib/python3.7/site-packages/ipykernel_launcher.py:4: DeprecationWarning: Call to deprecated `accuracy` (Method will be removed in 4.0.0, use self.wv.evaluate_word_analogies() instead).\n",
      "  after removing the cwd from sys.path.\n",
      "/opt/anaconda3/lib/python3.7/site-packages/ipykernel_launcher.py:4: DeprecationWarning: Call to deprecated `accuracy` (Method will be removed in 4.0.0, use self.evaluate_word_analogies() instead).\n",
      "  after removing the cwd from sys.path.\n"
     ]
    },
    {
     "name": "stdout",
     "output_type": "stream",
     "text": [
      "Word2Vec(vocab=94003, size=150, alpha=0.025)\n",
      "Total sentences: 12817, Correct: 18.05%, Incorrect: 81.95%\n",
      "model_125_15_0\n",
      "Word2Vec(vocab=94003, size=125, alpha=0.025)\n",
      "Total sentences: 12817, Correct: 17.58%, Incorrect: 82.42%\n"
     ]
    },
    {
     "data": {
      "image/png": "[encoded data removed]",
      "text/plain": [
       "<Figure size 432x288 with 1 Axes>"
      ]
     },
     "metadata": {
      "needs_background": "light"
     },
     "output_type": "display_data"
    },
    {
     "data": {
      "image/png": "[encoded data removed]",
      "text/plain": [
       "<Figure size 432x288 with 1 Axes>"
      ]
     },
     "metadata": {
      "needs_background": "light"
     },
     "output_type": "display_data"
    }
   ],
   "source": [
    "publications = ['New York Times'] #,'CNN', 'Breitbart', 'New York Post', 'Guardian', 'NPR', 'Reuters', 'Vox', 'Washington Post', 'Atlantic', 'Fox News', 'Buzzfeed News', 'National Review']\n",
    "\n",
    "for publication in publications:\n",
    "    importModels(publication)\n",
    "    modelAccuracies = compareModelAccuracies(True)\n",
    "    file = open(\"models/publicationsSkipgram/\"+publication+\"/\"+publication+\" skipgram.txt\", \"w\") \n",
    "#     file = open(\"models/\"+publication+\"/cbowresults.txt\", \"w\")\n",
    "    file.write(\"model:[vocabulary,percentage_correct,percentage_incorrect]\")\n",
    "    for accuracy in modelAccuracies:\n",
    "        file.write(\"\\n\"+str(accuracy)+\":\"+str(modelAccuracies[accuracy])) \n",
    "    file.close() \n",
    "    plotModelAccuracies(modelAccuracies,publication)\n",
    "    seeModelAccuracies(modelAccuracies,publication)"
   ]
  },
  {
   "cell_type": "code",
   "execution_count": null,
   "metadata": {},
   "outputs": [],
   "source": []
  }
 ],
 "metadata": {
  "kernelspec": {
   "display_name": "Python 3",
   "language": "python",
   "name": "python3"
  },
  "language_info": {
   "codemirror_mode": {
    "name": "ipython",
    "version": 3
   },
   "file_extension": ".py",
   "mimetype": "text/x-python",
   "name": "python",
   "nbconvert_exporter": "python",
   "pygments_lexer": "ipython3",
   "version": "3.7.4"
  }
 },
 "nbformat": 4,
 "nbformat_minor": 2
}
